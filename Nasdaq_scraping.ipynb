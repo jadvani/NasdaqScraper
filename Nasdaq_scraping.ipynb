{
 "cells": [
  {
   "cell_type": "code",
   "execution_count": 1,
   "metadata": {},
   "outputs": [],
   "source": [
    "# tomamos listado de todos los símbolos\n",
    "# hay muchos elementos javascript, por lo que tenemos que tirar de selenium para avanzar en el clickado de páginas\n",
    "# en cada página, usamos bs4 para tomar los elementos\n",
    "import requests\n",
    "import re\n",
    "from bs4 import BeautifulSoup"
   ]
  },
  {
   "cell_type": "code",
   "execution_count": 2,
   "metadata": {},
   "outputs": [],
   "source": [
    "def get_info_url(url):\n",
    "    headers = {\n",
    "        \"User-Agent\":\n",
    "            \"Mozilla/5.0 (Macintosh; Intel Mac OS X 10_13_6) AppleWebKit/537.36 (KHTML, like Gecko) Chrome/80.0.3987.87 Safari/537.36\"\n",
    "    }\n",
    "    html = requests.get(url, headers=headers).content\n",
    "    return BeautifulSoup(html, 'html')"
   ]
  },
  {
   "cell_type": "code",
   "execution_count": 3,
   "metadata": {},
   "outputs": [
    {
     "data": {
      "text/plain": [
       "['TSLA', 'AAPL', 'AMC', 'AMZN', 'GME']"
      ]
     },
     "execution_count": 3,
     "metadata": {},
     "output_type": "execute_result"
    }
   ],
   "source": [
    "soup = get_info_url(\"https://www.nasdaq.com/market-activity/stocks/screener\")\n",
    "s = str(soup)\n",
    "re.findall('{\"Symbol\":\"(.*?)\",', s)"
   ]
  },
  {
   "cell_type": "code",
   "execution_count": 20,
   "metadata": {
    "scrolled": false
   },
   "outputs": [
    {
     "name": "stderr",
     "output_type": "stream",
     "text": [
      "\n",
      "\n",
      "====== WebDriver manager ======\n",
      "Could not get version for chromium with the command:  powershell \"$ErrorActionPreference='silentlycontinue' ; (Get-Item -Path \"$env:PROGRAMFILES\\Chromium\\Application\\chrome.exe\").VersionInfo.FileVersion ; if (-not $? -or $? -match $error) { (Get-Item -Path \"$env:PROGRAMFILES(x86)\\Chromium\\Application\\chrome.exe\").VersionInfo.FileVersion } if (-not $? -or $? -match $error) { (Get-Item -Path \"$env:LOCALAPPDATA\\Chromium\\Application\\chrome.exe\").VersionInfo.FileVersion } if (-not $? -or $? -match $error) { reg query \"HKCU\\SOFTWARE\\Chromium\\BLBeacon\" /v version } if (-not $? -or $? -match $error) { reg query \"HKLM\\SOFTWARE\\Wow6432Node\\Microsoft\\Windows\\CurrentVersion\\Uninstall\\Chromium\" /v version }\"\n",
      "Current chromium version is UNKNOWN\n",
      "Get LATEST chromedriver version for UNKNOWN chromium\n",
      "Trying to download new driver from https://chromedriver.storage.googleapis.com/99.0.4844.51/chromedriver_win32.zip\n",
      "Driver has been saved in cache [C:\\Users\\Javier\\.wdm\\drivers\\chromedriver\\win32\\99.0.4844.51]\n"
     ]
    },
    {
     "name": "stdout",
     "output_type": "stream",
     "text": [
      "AAPL\n",
      "MSFT\n",
      "GOOG\n",
      "GOOGL\n",
      "AMZN\n",
      "TSLA\n",
      "NVDA\n",
      "TSM\n",
      "FB\n",
      "UNH\n",
      "JNJ\n",
      "V\n",
      "WMT\n",
      "JPM\n",
      "XOM\n",
      "BAC\n",
      "PG\n",
      "CVX\n",
      "HD\n",
      "MA\n",
      "PFE\n",
      "ABBV\n",
      "LLY\n",
      "KO\n",
      "DIS\n",
      "2 1\n"
     ]
    },
    {
     "ename": "ElementClickInterceptedException",
     "evalue": "Message: element click intercepted: Element <button class=\"pagination__next\" aria-label=\"click to go to the next page\"></button> is not clickable at point (894, 655). Other element would receive the click: <span class=\"watchlist__button-text\">...</span>\n  (Session info: chrome=99.0.4844.51)\nStacktrace:\nBacktrace:\n\tOrdinal0 [0x00FC9943+2595139]\n\tOrdinal0 [0x00F5C9F1+2148849]\n\tOrdinal0 [0x00E54528+1066280]\n\tOrdinal0 [0x00E87621+1275425]\n\tOrdinal0 [0x00E85657+1267287]\n\tOrdinal0 [0x00E8333B+1258299]\n\tOrdinal0 [0x00E8207D+1253501]\n\tOrdinal0 [0x00E77AB3+1211059]\n\tOrdinal0 [0x00E9B9EC+1358316]\n\tOrdinal0 [0x00E77474+1209460]\n\tOrdinal0 [0x00E9BC04+1358852]\n\tOrdinal0 [0x00EABAF2+1424114]\n\tOrdinal0 [0x00E9B806+1357830]\n\tOrdinal0 [0x00E76086+1204358]\n\tOrdinal0 [0x00E76F96+1208214]\n\tGetHandleVerifier [0x0116B232+1658114]\n\tGetHandleVerifier [0x0122312C+2411516]\n\tGetHandleVerifier [0x0105F261+560433]\n\tGetHandleVerifier [0x0105E366+556598]\n\tOrdinal0 [0x00F6286B+2173035]\n\tOrdinal0 [0x00F675F8+2192888]\n\tOrdinal0 [0x00F676E5+2193125]\n\tOrdinal0 [0x00F711FC+2232828]\n\tBaseThreadInitThunk [0x75176359+25]\n\tRtlGetAppContainerNamedObjectPath [0x77547C24+228]\n\tRtlGetAppContainerNamedObjectPath [0x77547BF4+180]\n",
     "output_type": "error",
     "traceback": [
      "\u001b[1;31m---------------------------------------------------------------------------\u001b[0m",
      "\u001b[1;31mElementClickInterceptedException\u001b[0m          Traceback (most recent call last)",
      "\u001b[1;32m<ipython-input-20-b84f0fc6749e>\u001b[0m in \u001b[0;36m<module>\u001b[1;34m\u001b[0m\n\u001b[0;32m     32\u001b[0m     \u001b[0mprint\u001b[0m\u001b[1;33m(\u001b[0m\u001b[0mstr\u001b[0m\u001b[1;33m(\u001b[0m\u001b[0mpage\u001b[0m\u001b[1;33m)\u001b[0m\u001b[1;33m,\u001b[0m \u001b[0mstr\u001b[0m\u001b[1;33m(\u001b[0m\u001b[0mindex\u001b[0m\u001b[1;33m)\u001b[0m\u001b[1;33m)\u001b[0m\u001b[1;33m\u001b[0m\u001b[1;33m\u001b[0m\u001b[0m\n\u001b[0;32m     33\u001b[0m     \u001b[0melement\u001b[0m \u001b[1;33m=\u001b[0m \u001b[0mWebDriverWait\u001b[0m\u001b[1;33m(\u001b[0m\u001b[0mdriver\u001b[0m\u001b[1;33m,\u001b[0m \u001b[1;36m10\u001b[0m\u001b[1;33m)\u001b[0m\u001b[1;33m.\u001b[0m\u001b[0muntil\u001b[0m\u001b[1;33m(\u001b[0m\u001b[0mEC\u001b[0m\u001b[1;33m.\u001b[0m\u001b[0melement_to_be_clickable\u001b[0m\u001b[1;33m(\u001b[0m\u001b[1;33m(\u001b[0m\u001b[0mBy\u001b[0m\u001b[1;33m.\u001b[0m\u001b[0mXPATH\u001b[0m\u001b[1;33m,\u001b[0m \u001b[0mnext_page_button\u001b[0m\u001b[1;33m)\u001b[0m\u001b[1;33m)\u001b[0m\u001b[1;33m)\u001b[0m\u001b[1;33m\u001b[0m\u001b[1;33m\u001b[0m\u001b[0m\n\u001b[1;32m---> 34\u001b[1;33m     \u001b[0melement\u001b[0m\u001b[1;33m.\u001b[0m\u001b[0mclick\u001b[0m\u001b[1;33m(\u001b[0m\u001b[1;33m)\u001b[0m\u001b[1;33m\u001b[0m\u001b[1;33m\u001b[0m\u001b[0m\n\u001b[0m\u001b[0;32m     35\u001b[0m \u001b[1;33m\u001b[0m\u001b[0m\n",
      "\u001b[1;32m~\\anaconda3\\lib\\site-packages\\selenium\\webdriver\\remote\\webelement.py\u001b[0m in \u001b[0;36mclick\u001b[1;34m(self)\u001b[0m\n\u001b[0;32m     79\u001b[0m     \u001b[1;32mdef\u001b[0m \u001b[0mclick\u001b[0m\u001b[1;33m(\u001b[0m\u001b[0mself\u001b[0m\u001b[1;33m)\u001b[0m \u001b[1;33m->\u001b[0m \u001b[1;32mNone\u001b[0m\u001b[1;33m:\u001b[0m\u001b[1;33m\u001b[0m\u001b[1;33m\u001b[0m\u001b[0m\n\u001b[0;32m     80\u001b[0m         \u001b[1;34m\"\"\"Clicks the element.\"\"\"\u001b[0m\u001b[1;33m\u001b[0m\u001b[1;33m\u001b[0m\u001b[0m\n\u001b[1;32m---> 81\u001b[1;33m         \u001b[0mself\u001b[0m\u001b[1;33m.\u001b[0m\u001b[0m_execute\u001b[0m\u001b[1;33m(\u001b[0m\u001b[0mCommand\u001b[0m\u001b[1;33m.\u001b[0m\u001b[0mCLICK_ELEMENT\u001b[0m\u001b[1;33m)\u001b[0m\u001b[1;33m\u001b[0m\u001b[1;33m\u001b[0m\u001b[0m\n\u001b[0m\u001b[0;32m     82\u001b[0m \u001b[1;33m\u001b[0m\u001b[0m\n\u001b[0;32m     83\u001b[0m     \u001b[1;32mdef\u001b[0m \u001b[0msubmit\u001b[0m\u001b[1;33m(\u001b[0m\u001b[0mself\u001b[0m\u001b[1;33m)\u001b[0m\u001b[1;33m:\u001b[0m\u001b[1;33m\u001b[0m\u001b[1;33m\u001b[0m\u001b[0m\n",
      "\u001b[1;32m~\\anaconda3\\lib\\site-packages\\selenium\\webdriver\\remote\\webelement.py\u001b[0m in \u001b[0;36m_execute\u001b[1;34m(self, command, params)\u001b[0m\n\u001b[0;32m    708\u001b[0m             \u001b[0mparams\u001b[0m \u001b[1;33m=\u001b[0m \u001b[1;33m{\u001b[0m\u001b[1;33m}\u001b[0m\u001b[1;33m\u001b[0m\u001b[1;33m\u001b[0m\u001b[0m\n\u001b[0;32m    709\u001b[0m         \u001b[0mparams\u001b[0m\u001b[1;33m[\u001b[0m\u001b[1;34m'id'\u001b[0m\u001b[1;33m]\u001b[0m \u001b[1;33m=\u001b[0m \u001b[0mself\u001b[0m\u001b[1;33m.\u001b[0m\u001b[0m_id\u001b[0m\u001b[1;33m\u001b[0m\u001b[1;33m\u001b[0m\u001b[0m\n\u001b[1;32m--> 710\u001b[1;33m         \u001b[1;32mreturn\u001b[0m \u001b[0mself\u001b[0m\u001b[1;33m.\u001b[0m\u001b[0m_parent\u001b[0m\u001b[1;33m.\u001b[0m\u001b[0mexecute\u001b[0m\u001b[1;33m(\u001b[0m\u001b[0mcommand\u001b[0m\u001b[1;33m,\u001b[0m \u001b[0mparams\u001b[0m\u001b[1;33m)\u001b[0m\u001b[1;33m\u001b[0m\u001b[1;33m\u001b[0m\u001b[0m\n\u001b[0m\u001b[0;32m    711\u001b[0m \u001b[1;33m\u001b[0m\u001b[0m\n\u001b[0;32m    712\u001b[0m     \u001b[1;32mdef\u001b[0m \u001b[0mfind_element\u001b[0m\u001b[1;33m(\u001b[0m\u001b[0mself\u001b[0m\u001b[1;33m,\u001b[0m \u001b[0mby\u001b[0m\u001b[1;33m=\u001b[0m\u001b[0mBy\u001b[0m\u001b[1;33m.\u001b[0m\u001b[0mID\u001b[0m\u001b[1;33m,\u001b[0m \u001b[0mvalue\u001b[0m\u001b[1;33m=\u001b[0m\u001b[1;32mNone\u001b[0m\u001b[1;33m)\u001b[0m\u001b[1;33m:\u001b[0m\u001b[1;33m\u001b[0m\u001b[1;33m\u001b[0m\u001b[0m\n",
      "\u001b[1;32m~\\anaconda3\\lib\\site-packages\\selenium\\webdriver\\remote\\webdriver.py\u001b[0m in \u001b[0;36mexecute\u001b[1;34m(self, driver_command, params)\u001b[0m\n\u001b[0;32m    422\u001b[0m         \u001b[0mresponse\u001b[0m \u001b[1;33m=\u001b[0m \u001b[0mself\u001b[0m\u001b[1;33m.\u001b[0m\u001b[0mcommand_executor\u001b[0m\u001b[1;33m.\u001b[0m\u001b[0mexecute\u001b[0m\u001b[1;33m(\u001b[0m\u001b[0mdriver_command\u001b[0m\u001b[1;33m,\u001b[0m \u001b[0mparams\u001b[0m\u001b[1;33m)\u001b[0m\u001b[1;33m\u001b[0m\u001b[1;33m\u001b[0m\u001b[0m\n\u001b[0;32m    423\u001b[0m         \u001b[1;32mif\u001b[0m \u001b[0mresponse\u001b[0m\u001b[1;33m:\u001b[0m\u001b[1;33m\u001b[0m\u001b[1;33m\u001b[0m\u001b[0m\n\u001b[1;32m--> 424\u001b[1;33m             \u001b[0mself\u001b[0m\u001b[1;33m.\u001b[0m\u001b[0merror_handler\u001b[0m\u001b[1;33m.\u001b[0m\u001b[0mcheck_response\u001b[0m\u001b[1;33m(\u001b[0m\u001b[0mresponse\u001b[0m\u001b[1;33m)\u001b[0m\u001b[1;33m\u001b[0m\u001b[1;33m\u001b[0m\u001b[0m\n\u001b[0m\u001b[0;32m    425\u001b[0m             response['value'] = self._unwrap_value(\n\u001b[0;32m    426\u001b[0m                 response.get('value', None))\n",
      "\u001b[1;32m~\\anaconda3\\lib\\site-packages\\selenium\\webdriver\\remote\\errorhandler.py\u001b[0m in \u001b[0;36mcheck_response\u001b[1;34m(self, response)\u001b[0m\n\u001b[0;32m    245\u001b[0m                 \u001b[0malert_text\u001b[0m \u001b[1;33m=\u001b[0m \u001b[0mvalue\u001b[0m\u001b[1;33m[\u001b[0m\u001b[1;34m'alert'\u001b[0m\u001b[1;33m]\u001b[0m\u001b[1;33m.\u001b[0m\u001b[0mget\u001b[0m\u001b[1;33m(\u001b[0m\u001b[1;34m'text'\u001b[0m\u001b[1;33m)\u001b[0m\u001b[1;33m\u001b[0m\u001b[1;33m\u001b[0m\u001b[0m\n\u001b[0;32m    246\u001b[0m             \u001b[1;32mraise\u001b[0m \u001b[0mexception_class\u001b[0m\u001b[1;33m(\u001b[0m\u001b[0mmessage\u001b[0m\u001b[1;33m,\u001b[0m \u001b[0mscreen\u001b[0m\u001b[1;33m,\u001b[0m \u001b[0mstacktrace\u001b[0m\u001b[1;33m,\u001b[0m \u001b[0malert_text\u001b[0m\u001b[1;33m)\u001b[0m  \u001b[1;31m# type: ignore[call-arg]  # mypy is not smart enough here\u001b[0m\u001b[1;33m\u001b[0m\u001b[1;33m\u001b[0m\u001b[0m\n\u001b[1;32m--> 247\u001b[1;33m         \u001b[1;32mraise\u001b[0m \u001b[0mexception_class\u001b[0m\u001b[1;33m(\u001b[0m\u001b[0mmessage\u001b[0m\u001b[1;33m,\u001b[0m \u001b[0mscreen\u001b[0m\u001b[1;33m,\u001b[0m \u001b[0mstacktrace\u001b[0m\u001b[1;33m)\u001b[0m\u001b[1;33m\u001b[0m\u001b[1;33m\u001b[0m\u001b[0m\n\u001b[0m\u001b[0;32m    248\u001b[0m \u001b[1;33m\u001b[0m\u001b[0m\n\u001b[0;32m    249\u001b[0m     \u001b[1;32mdef\u001b[0m \u001b[0m_value_or_default\u001b[0m\u001b[1;33m(\u001b[0m\u001b[0mself\u001b[0m\u001b[1;33m,\u001b[0m \u001b[0mobj\u001b[0m\u001b[1;33m:\u001b[0m \u001b[0mMapping\u001b[0m\u001b[1;33m[\u001b[0m\u001b[0m_KT\u001b[0m\u001b[1;33m,\u001b[0m \u001b[0m_VT\u001b[0m\u001b[1;33m]\u001b[0m\u001b[1;33m,\u001b[0m \u001b[0mkey\u001b[0m\u001b[1;33m:\u001b[0m \u001b[0m_KT\u001b[0m\u001b[1;33m,\u001b[0m \u001b[0mdefault\u001b[0m\u001b[1;33m:\u001b[0m \u001b[0m_VT\u001b[0m\u001b[1;33m)\u001b[0m \u001b[1;33m->\u001b[0m \u001b[0m_VT\u001b[0m\u001b[1;33m:\u001b[0m\u001b[1;33m\u001b[0m\u001b[1;33m\u001b[0m\u001b[0m\n",
      "\u001b[1;31mElementClickInterceptedException\u001b[0m: Message: element click intercepted: Element <button class=\"pagination__next\" aria-label=\"click to go to the next page\"></button> is not clickable at point (894, 655). Other element would receive the click: <span class=\"watchlist__button-text\">...</span>\n  (Session info: chrome=99.0.4844.51)\nStacktrace:\nBacktrace:\n\tOrdinal0 [0x00FC9943+2595139]\n\tOrdinal0 [0x00F5C9F1+2148849]\n\tOrdinal0 [0x00E54528+1066280]\n\tOrdinal0 [0x00E87621+1275425]\n\tOrdinal0 [0x00E85657+1267287]\n\tOrdinal0 [0x00E8333B+1258299]\n\tOrdinal0 [0x00E8207D+1253501]\n\tOrdinal0 [0x00E77AB3+1211059]\n\tOrdinal0 [0x00E9B9EC+1358316]\n\tOrdinal0 [0x00E77474+1209460]\n\tOrdinal0 [0x00E9BC04+1358852]\n\tOrdinal0 [0x00EABAF2+1424114]\n\tOrdinal0 [0x00E9B806+1357830]\n\tOrdinal0 [0x00E76086+1204358]\n\tOrdinal0 [0x00E76F96+1208214]\n\tGetHandleVerifier [0x0116B232+1658114]\n\tGetHandleVerifier [0x0122312C+2411516]\n\tGetHandleVerifier [0x0105F261+560433]\n\tGetHandleVerifier [0x0105E366+556598]\n\tOrdinal0 [0x00F6286B+2173035]\n\tOrdinal0 [0x00F675F8+2192888]\n\tOrdinal0 [0x00F676E5+2193125]\n\tOrdinal0 [0x00F711FC+2232828]\n\tBaseThreadInitThunk [0x75176359+25]\n\tRtlGetAppContainerNamedObjectPath [0x77547C24+228]\n\tRtlGetAppContainerNamedObjectPath [0x77547BF4+180]\n"
     ]
    }
   ],
   "source": [
    "from selenium import webdriver\n",
    "from selenium.webdriver.chrome.service import Service\n",
    "from selenium.webdriver.common.by import By\n",
    "from webdriver_manager.chrome import ChromeDriverManager\n",
    "from webdriver_manager.utils import ChromeType\n",
    "from selenium.webdriver.support.ui import WebDriverWait           \n",
    "from selenium.webdriver.support import expected_conditions as EC\n",
    "\n",
    "s=Service(ChromeDriverManager(chrome_type=ChromeType.CHROMIUM).install())\n",
    "driver = webdriver.Chrome(service=s)\n",
    "url = \"https://www.nasdaq.com/market-activity/stocks/screener\"\n",
    "\n",
    "driver.get(url)\n",
    "driver.implicitly_wait(1)\n",
    "\n",
    "\n",
    "index = 1\n",
    "symbols = []\n",
    "first_symbol = ''\n",
    "\n",
    "next_page_button = '/html/body/div[2]/div/main/div[2]/article/div[3]/div[1]/div/div/div[3]/div[5]/button[2]'\n",
    "page = 1\n",
    "while page<=total_pages:\n",
    "    while index<=25:\n",
    "        symbol = driver.find_element(By.XPATH,'/html/body/div[2]/div/main/div[2]/article/div[3]/div[1]/div/div/div[3]/div[3]/table/tbody/tr['+str(index)+ ']'+'/th/a')\n",
    "        symbols.append(symbol)\n",
    "        print(symbol.text)\n",
    "        index+=1\n",
    "    \n",
    "    page += 1\n",
    "    index = 1\n",
    "    print(str(page), str(index))\n",
    "    element = WebDriverWait(driver, 10).until(EC.element_to_be_clickable((By.XPATH, next_page_button)))\n",
    "    element.click()\n",
    "    \n"
   ]
  },
  {
   "cell_type": "code",
   "execution_count": 16,
   "metadata": {},
   "outputs": [],
   "source": [
    "from selenium import webdriver\n",
    "from selenium.webdriver.chrome.service import Service\n",
    "from selenium.webdriver.common.by import By\n",
    "from webdriver_manager.chrome import ChromeDriverManager\n",
    "from webdriver_manager.utils import ChromeType\n",
    "from selenium.webdriver.support.ui import WebDriverWait           \n",
    "from selenium.webdriver.support import expected_conditions as EC\n",
    "from selenium.webdriver.common.keys import Keys"
   ]
  },
  {
   "cell_type": "code",
   "execution_count": 54,
   "metadata": {},
   "outputs": [],
   "source": [
    "import time\n",
    "from selenium.webdriver.common.action_chains import ActionChains\n",
    "SCROLL_PAUSE_TIME = 0.5\n",
    "\n",
    "action = ActionChains(driver)\n",
    "time.sleep(SCROLL_PAUSE_TIME)\n",
    "next_page_button_xpath = '/html/body/div[2]/div/main/div[2]/article/div[3]/div[1]/div/div/div[3]/div[5]/button[2]'\n",
    "next_page_button = WebDriverWait(driver, 10).until(EC.element_to_be_clickable((By.XPATH, next_page_button_xpath)))"
   ]
  },
  {
   "cell_type": "code",
   "execution_count": 49,
   "metadata": {},
   "outputs": [],
   "source": [
    "body = driver.find_element(By.CSS_SELECTOR, 'body > div.dialog-off-canvas-main-canvas > div > main > div.page__content > article > div:nth-child(3) > div.layout--main > div > div > div.nasdaq-screener__content-container > div.pagination.pagination--arrows > button.pagination__next')\n",
    "body.send_keys(Keys.PAGE_DOWN)"
   ]
  },
  {
   "cell_type": "code",
   "execution_count": 58,
   "metadata": {},
   "outputs": [],
   "source": [
    "actions = ActionChains(driver)\n",
    "actions.move_to_element(next_page_button).perform()"
   ]
  },
  {
   "cell_type": "code",
   "execution_count": 96,
   "metadata": {},
   "outputs": [],
   "source": [
    "def get_total_number_of_symbol_pages(driver):\n",
    "    return int(driver.find_element(By.XPATH,'/html/body/div[2]/div/main/div[2]/article/div[3]/div[1]/div/div/div[3]/div[5]/div/button[8]').text)"
   ]
  },
  {
   "cell_type": "code",
   "execution_count": 77,
   "metadata": {},
   "outputs": [],
   "source": [
    "def get_driver_from_url(url):\n",
    "    s=Service(ChromeDriverManager(chrome_type=ChromeType.CHROMIUM).install())\n",
    "    driver = webdriver.Chrome(service=s)\n",
    "    driver.get(url)\n",
    "    driver.implicitly_wait(1)\n",
    "    return driver"
   ]
  },
  {
   "cell_type": "code",
   "execution_count": 122,
   "metadata": {},
   "outputs": [],
   "source": [
    "def click_next_symbols_page(driver):\n",
    "    next_page_button_xpath = '/html/body/div[2]/div/main/div[2]/article/div[3]/div[1]/div/div/div[3]/div[5]/button[2]'\n",
    "    next_page_button = WebDriverWait(driver, 10).until(EC.element_to_be_clickable((By.XPATH, next_page_button_xpath)))\n",
    "    see_also_banner_xpath = '/html/body/div[2]/div/main/div[2]/article/div[3]/div[1]/aside/div'\n",
    "    see_also_banner = WebDriverWait(driver, 10).until(EC.element_to_be_clickable((By.XPATH, see_also_banner_xpath)))\n",
    "    actions = ActionChains(driver)\n",
    "    actions.move_to_element(see_also_banner).perform()\n",
    "    next_page_button.click()"
   ]
  },
  {
   "cell_type": "code",
   "execution_count": 114,
   "metadata": {},
   "outputs": [],
   "source": [
    "def get_symbols_in_page(driver):\n",
    "    symbols = []\n",
    "    symbols_in_page = len(driver.find_elements(By.XPATH,\"//table/tbody/tr\"))\n",
    "    for index in range(1, symbols_in_page+1):\n",
    "                symbol = driver.find_element(By.XPATH,'/html/body/div[2]/div/main/div[2]/article/div[3]/div[1]/div/div/div[3]/div[3]/table/tbody/tr['+str(index)+ ']'+'/th/a')\n",
    "                symbols.append(symbol.text)\n",
    "    return symbols"
   ]
  },
  {
   "cell_type": "code",
   "execution_count": null,
   "metadata": {},
   "outputs": [],
   "source": [
    "def get_all_symbols(driver):\n",
    "    symbol_pages = get_total_number_of_symbol_pages(driver)\n",
    "    symbols = []\n",
    "    print(\"número de páginas: \"+str(symbol_pages))\n",
    "    print(\"Obteniendo páginas. Por favor, espere...\")\n",
    "    for page in range(0, symbol_pages):\n",
    "        symbols.append(get_symbols_in_page(driver))\n",
    "        if page < 335:\n",
    "            click_next_symbols_page(driver)\n",
    "        time.sleep(0.5)\n",
    "    return [j for i in symbols for j in i]"
   ]
  },
  {
   "cell_type": "code",
   "execution_count": 179,
   "metadata": {},
   "outputs": [
    {
     "name": "stderr",
     "output_type": "stream",
     "text": [
      "\n",
      "\n",
      "====== WebDriver manager ======\n",
      "Could not get version for chromium with the command:  powershell \"$ErrorActionPreference='silentlycontinue' ; (Get-Item -Path \"$env:PROGRAMFILES\\Chromium\\Application\\chrome.exe\").VersionInfo.FileVersion ; if (-not $? -or $? -match $error) { (Get-Item -Path \"$env:PROGRAMFILES(x86)\\Chromium\\Application\\chrome.exe\").VersionInfo.FileVersion } if (-not $? -or $? -match $error) { (Get-Item -Path \"$env:LOCALAPPDATA\\Chromium\\Application\\chrome.exe\").VersionInfo.FileVersion } if (-not $? -or $? -match $error) { reg query \"HKCU\\SOFTWARE\\Chromium\\BLBeacon\" /v version } if (-not $? -or $? -match $error) { reg query \"HKLM\\SOFTWARE\\Wow6432Node\\Microsoft\\Windows\\CurrentVersion\\Uninstall\\Chromium\" /v version }\"\n",
      "Current chromium version is UNKNOWN\n",
      "Get LATEST chromedriver version for UNKNOWN chromium\n",
      "Trying to download new driver from https://chromedriver.storage.googleapis.com/99.0.4844.51/chromedriver_win32.zip\n",
      "Driver has been saved in cache [C:\\Users\\Javier\\.wdm\\drivers\\chromedriver\\win32\\99.0.4844.51]\n"
     ]
    }
   ],
   "source": [
    "driver = get_driver_from_url(\"https://www.nasdaq.com/market-activity/stocks/screener\")"
   ]
  },
  {
   "cell_type": "code",
   "execution_count": 182,
   "metadata": {},
   "outputs": [],
   "source": [
    "# symbols = get_all_symbols(driver)\n",
    "first_10 = symbols[0:10]"
   ]
  },
  {
   "cell_type": "code",
   "execution_count": 184,
   "metadata": {},
   "outputs": [],
   "source": [
    "def go_to_key_data(driver):\n",
    "    key_data_header_xpath = '/html/body/div[2]/div/main/div[2]/div[6]/div/div[1]/div/div[1]/h2'\n",
    "    key_data_header = WebDriverWait(driver, 10).until(EC.element_to_be_clickable((By.XPATH, key_data_header_xpath)))\n",
    "    actions = ActionChains(driver)\n",
    "    actions.move_to_element(key_data_header).perform()"
   ]
  },
  {
   "cell_type": "code",
   "execution_count": 185,
   "metadata": {},
   "outputs": [
    {
     "name": "stdout",
     "output_type": "stream",
     "text": [
      "name: Apple Inc. Common Stock\n",
      "beta: 1.18\n",
      "name: Microsoft Corporation Common Stock\n",
      "beta: 0.91\n",
      "name: Alphabet Inc. Class C Capital Stock\n",
      "beta: 1.06\n",
      "name: Alphabet Inc. Class A Common Stock\n",
      "beta: 1.06\n",
      "name: Amazon.com, Inc. Common Stock\n",
      "beta: 1.11\n",
      "name: Tesla, Inc. Common Stock\n",
      "beta: 2.05\n",
      "name: NVIDIA Corporation Common Stock\n",
      "beta: 1.41\n",
      "name: Taiwan Semiconductor Manufacturing Company Ltd.\n",
      "beta: 0.92\n",
      "name: Meta Platforms, Inc. Class A Common Stock\n",
      "beta: 1.39\n",
      "name: UnitedHealth Group Incorporated Common Stock\n",
      "beta: 0.87\n"
     ]
    }
   ],
   "source": [
    "for symbol in first_10:\n",
    "    driver.get('https://www.nasdaq.com/market-activity/stocks/'+symbol)\n",
    "    print(\"name: \"+ driver.find_element(By.XPATH, name_xpath).text.split(\" (\")[0])\n",
    "    go_to_key_data(driver)\n",
    "    print(\"beta: \"+ driver.find_element(By.XPATH, beta_xpath).text)"
   ]
  },
  {
   "cell_type": "code",
   "execution_count": 172,
   "metadata": {},
   "outputs": [
    {
     "name": "stderr",
     "output_type": "stream",
     "text": [
      "\n",
      "\n",
      "====== WebDriver manager ======\n",
      "Could not get version for chromium with the command:  powershell \"$ErrorActionPreference='silentlycontinue' ; (Get-Item -Path \"$env:PROGRAMFILES\\Chromium\\Application\\chrome.exe\").VersionInfo.FileVersion ; if (-not $? -or $? -match $error) { (Get-Item -Path \"$env:PROGRAMFILES(x86)\\Chromium\\Application\\chrome.exe\").VersionInfo.FileVersion } if (-not $? -or $? -match $error) { (Get-Item -Path \"$env:LOCALAPPDATA\\Chromium\\Application\\chrome.exe\").VersionInfo.FileVersion } if (-not $? -or $? -match $error) { reg query \"HKCU\\SOFTWARE\\Chromium\\BLBeacon\" /v version } if (-not $? -or $? -match $error) { reg query \"HKLM\\SOFTWARE\\Wow6432Node\\Microsoft\\Windows\\CurrentVersion\\Uninstall\\Chromium\" /v version }\"\n",
      "Current chromium version is UNKNOWN\n",
      "Get LATEST chromedriver version for UNKNOWN chromium\n",
      "Trying to download new driver from https://chromedriver.storage.googleapis.com/99.0.4844.51/chromedriver_win32.zip\n",
      "Driver has been saved in cache [C:\\Users\\Javier\\.wdm\\drivers\\chromedriver\\win32\\99.0.4844.51]\n"
     ]
    }
   ],
   "source": [
    "aapl = get_driver_from_url('https://www.nasdaq.com/market-activity/stocks/')"
   ]
  },
  {
   "cell_type": "code",
   "execution_count": 186,
   "metadata": {},
   "outputs": [],
   "source": [
    "import yaml"
   ]
  },
  {
   "cell_type": "code",
   "execution_count": 187,
   "metadata": {},
   "outputs": [
    {
     "ename": "FileNotFoundError",
     "evalue": "[Errno 2] No such file or directory: 'config.yaml'",
     "output_type": "error",
     "traceback": [
      "\u001b[1;31m---------------------------------------------------------------------------\u001b[0m",
      "\u001b[1;31mFileNotFoundError\u001b[0m                         Traceback (most recent call last)",
      "\u001b[1;32m<ipython-input-187-34cc8d14fb34>\u001b[0m in \u001b[0;36m<module>\u001b[1;34m\u001b[0m\n\u001b[1;32m----> 1\u001b[1;33m \u001b[1;32mwith\u001b[0m \u001b[0mopen\u001b[0m\u001b[1;33m(\u001b[0m\u001b[1;34mr'config.yaml'\u001b[0m\u001b[1;33m)\u001b[0m \u001b[1;32mas\u001b[0m \u001b[0mfile\u001b[0m\u001b[1;33m:\u001b[0m\u001b[1;33m\u001b[0m\u001b[1;33m\u001b[0m\u001b[0m\n\u001b[0m\u001b[0;32m      2\u001b[0m     \u001b[0mpaths\u001b[0m \u001b[1;33m=\u001b[0m \u001b[0myaml\u001b[0m\u001b[1;33m.\u001b[0m\u001b[0mload\u001b[0m\u001b[1;33m(\u001b[0m\u001b[0mfile\u001b[0m\u001b[1;33m,\u001b[0m \u001b[0mLoader\u001b[0m\u001b[1;33m=\u001b[0m\u001b[0myaml\u001b[0m\u001b[1;33m.\u001b[0m\u001b[0mFullLoader\u001b[0m\u001b[1;33m)\u001b[0m\u001b[1;33m\u001b[0m\u001b[1;33m\u001b[0m\u001b[0m\n",
      "\u001b[1;31mFileNotFoundError\u001b[0m: [Errno 2] No such file or directory: 'config.yaml'"
     ]
    }
   ],
   "source": [
    "with open(r'config.yaml') as file:\n",
    "    paths = yaml.load(file, Loader=yaml.FullLoader)"
   ]
  },
  {
   "cell_type": "code",
   "execution_count": 174,
   "metadata": {},
   "outputs": [],
   "source": [
    "name = aapl.find_element(By.XPATH, name_xpath).text.split(\" (\")[0]\n",
    "price = float(aapl.find_element(By.XPATH, price_xpath).text.strip('$'))\n",
    "pricing_changes = aapl.find_element(By.XPATH, pricing_changes_xpath).text\n",
    "pricing_percentage_changes = aapl.find_element(By.XPATH, pricing_change_percentage_xpath).text"
   ]
  },
  {
   "cell_type": "code",
   "execution_count": 178,
   "metadata": {},
   "outputs": [
    {
     "name": "stdout",
     "output_type": "stream",
     "text": [
      "Apple Inc. Common Stock\n",
      "154.73\n",
      "-3.79\n",
      "-2.39\n",
      "Technology\n",
      "Computer Manufacturing\n",
      "2,682,606,618,200\n",
      "1.18\n"
     ]
    }
   ],
   "source": [
    "sector = aapl.find_element(By.XPATH, sector_xpath).text\n",
    "industry = aapl.find_element(By.XPATH, industry_xpath).text\n",
    "market_cap = aapl.find_element(By.XPATH, market_cap_xpath).text\n",
    "beta = aapl.find_element(By.XPATH, beta_xpath).text\n",
    "print(name)\n",
    "print(price)\n",
    "print(pricing_changes)\n",
    "print(pricing_percentage_changes.strip('(').strip('%)'))\n",
    "print(sector)\n",
    "print(industry)\n",
    "print(market_cap)\n",
    "print(beta)"
   ]
  },
  {
   "cell_type": "code",
   "execution_count": 161,
   "metadata": {},
   "outputs": [
    {
     "data": {
      "text/plain": [
       "-3.79"
      ]
     },
     "execution_count": 161,
     "metadata": {},
     "output_type": "execute_result"
    }
   ],
   "source": [
    "float('-3.79')"
   ]
  },
  {
   "cell_type": "code",
   "execution_count": null,
   "metadata": {},
   "outputs": [],
   "source": [
    "fox = webdriver.Firefox()\n",
    "fox.get('http://stackoverflow.com/')\n",
    "image = fox.find_element_by_id('hlogo').screenshot_as_png"
   ]
  },
  {
   "cell_type": "code",
   "execution_count": null,
   "metadata": {},
   "outputs": [],
   "source": []
  }
 ],
 "metadata": {
  "kernelspec": {
   "display_name": "Python 3",
   "language": "python",
   "name": "python3"
  },
  "language_info": {
   "codemirror_mode": {
    "name": "ipython",
    "version": 3
   },
   "file_extension": ".py",
   "mimetype": "text/x-python",
   "name": "python",
   "nbconvert_exporter": "python",
   "pygments_lexer": "ipython3",
   "version": "3.8.3"
  }
 },
 "nbformat": 4,
 "nbformat_minor": 4
}
